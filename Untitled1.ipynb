{
 "cells": [
  {
   "cell_type": "code",
   "execution_count": null,
   "id": "745696e6",
   "metadata": {},
   "outputs": [],
   "source": [
    "def funcaoteste():\n",
    "    print ('testando os conhecimentos')"
   ]
  },
  {
   "cell_type": "code",
   "execution_count": null,
   "id": "8ac56aef",
   "metadata": {},
   "outputs": [],
   "source": [
    "funcaoteste()"
   ]
  },
  {
   "cell_type": "code",
   "execution_count": null,
   "id": "af9d350b",
   "metadata": {},
   "outputs": [],
   "source": [
    "lista = ['1,5',2,5,3,4]\n"
   ]
  },
  {
   "cell_type": "code",
   "execution_count": null,
   "id": "aa4941cb",
   "metadata": {},
   "outputs": [],
   "source": [
    "int (\"26\")\n",
    "    "
   ]
  },
  {
   "cell_type": "code",
   "execution_count": null,
   "id": "76f44314",
   "metadata": {},
   "outputs": [],
   "source": [
    "float (\"105\")"
   ]
  },
  {
   "cell_type": "code",
   "execution_count": null,
   "id": "6e549be4",
   "metadata": {},
   "outputs": [],
   "source": [
    "str (\"34\")"
   ]
  },
  {
   "cell_type": "code",
   "execution_count": 8,
   "id": "248cce11",
   "metadata": {},
   "outputs": [
    {
     "ename": "SyntaxError",
     "evalue": "invalid syntax (4104875070.py, line 1)",
     "output_type": "error",
     "traceback": [
      "\u001b[1;36m  Input \u001b[1;32mIn [8]\u001b[1;36m\u001b[0m\n\u001b[1;33m    lista = (\"2\";\"3\")\u001b[0m\n\u001b[1;37m                ^\u001b[0m\n\u001b[1;31mSyntaxError\u001b[0m\u001b[1;31m:\u001b[0m invalid syntax\n"
     ]
    }
   ],
   "source": [
    "lista = (\"2\",\"3\")"
   ]
  },
  {
   "cell_type": "code",
   "execution_count": 7,
   "id": "9f44ecd8",
   "metadata": {},
   "outputs": [
    {
     "ename": "NameError",
     "evalue": "name 'array' is not defined",
     "output_type": "error",
     "traceback": [
      "\u001b[1;31m---------------------------------------------------------------------------\u001b[0m",
      "\u001b[1;31mNameError\u001b[0m                                 Traceback (most recent call last)",
      "Input \u001b[1;32mIn [7]\u001b[0m, in \u001b[0;36m<cell line: 1>\u001b[1;34m()\u001b[0m\n\u001b[1;32m----> 1\u001b[0m \u001b[43marray\u001b[49m\u001b[38;5;241m.\u001b[39mcount (\u001b[38;5;124m\"\u001b[39m\u001b[38;5;124mlista\u001b[39m\u001b[38;5;124m\"\u001b[39m)\n",
      "\u001b[1;31mNameError\u001b[0m: name 'array' is not defined"
     ]
    }
   ],
   "source": [
    "array (\"lista\")"
   ]
  },
  {
   "cell_type": "code",
   "execution_count": null,
   "id": "b73c8984",
   "metadata": {},
   "outputs": [],
   "source": []
  },
  {
   "cell_type": "code",
   "execution_count": null,
   "id": "7ded466b",
   "metadata": {},
   "outputs": [],
   "source": []
  }
 ],
 "metadata": {
  "kernelspec": {
   "display_name": "Python 3 (ipykernel)",
   "language": "python",
   "name": "python3"
  },
  "language_info": {
   "codemirror_mode": {
    "name": "ipython",
    "version": 3
   },
   "file_extension": ".py",
   "mimetype": "text/x-python",
   "name": "python",
   "nbconvert_exporter": "python",
   "pygments_lexer": "ipython3",
   "version": "3.9.12"
  }
 },
 "nbformat": 4,
 "nbformat_minor": 5
}
